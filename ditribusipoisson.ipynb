{
  "nbformat": 4,
  "nbformat_minor": 0,
  "metadata": {
    "colab": {
      "name": "ditribusipoisson.ipynb",
      "provenance": [],
      "collapsed_sections": [],
      "authorship_tag": "ABX9TyOcT2+Mnqqk2iqmK/A4dJhN",
      "include_colab_link": true
    },
    "kernelspec": {
      "name": "python3",
      "display_name": "Python 3"
    },
    "language_info": {
      "name": "python"
    }
  },
  "cells": [
    {
      "cell_type": "markdown",
      "metadata": {
        "id": "view-in-github",
        "colab_type": "text"
      },
      "source": [
        "<a href=\"https://colab.research.google.com/github/ImanuelRomuty/uasStatistika/blob/main/ditribusipoisson.ipynb\" target=\"_parent\"><img src=\"https://colab.research.google.com/assets/colab-badge.svg\" alt=\"Open In Colab\"/></a>"
      ]
    },
    {
      "cell_type": "code",
      "metadata": {
        "colab": {
          "base_uri": "https://localhost:8080/",
          "height": 390
        },
        "id": "MHwtkhkomwdN",
        "outputId": "5e4b2e36-e241-4ae0-b0f4-6584b0a1b84a"
      },
      "source": [
        "from numpy import random\n",
        "import matplotlib.pyplot as plt\n",
        "import seaborn as sns\n",
        "\n",
        "data=[\n",
        "      # [\"tahun\"],[\"total kejadian\"],\n",
        "      [1992,38028],\n",
        "      [1993,34528],\n",
        "      [1994,34274],\n",
        "      [1995,32815],\n",
        "      [1996,30211],\n",
        "      [1997,34920],\n",
        "      [1998,31181],\n",
        "      [1999,26631],\n",
        "      [2000,26154],\n",
        "      [2001,25359],\n",
        "      [2002,23703],\n",
        "      [2003,24692],\n",
        "      [2004,32271],\n",
        "      [2005,103323],\n",
        "      [2006,101354],\n",
        "      [2007,83963],\n",
        "      [2008,99359],\n",
        "      [2009,106384],\n",
        "      [2010,109878],\n",
        "      [2011,175425],\n",
        "      [2012,197560],\n",
        "      [2013,165302],\n",
        "      [2014,164878],\n",
        "      [2015,154472],\n",
        "      [2016,171869],\n",
        "      [2017,166828],\n",
        "      [2018,173358]\n",
        "     ]\n",
        "\n",
        "totalKejadian=0\n",
        "for i in range (len(data)):\n",
        "    totalKejadian=totalKejadian + data[i][1]\n",
        "print(\"Total Kejadian : \",totalKejadian)\n",
        "totalTahun=0\n",
        "for i in range (len(data)):\n",
        "    totalTahun=totalTahun+1\n",
        "print(\"Banyak Tahun : \", totalTahun)\n",
        "\n",
        "rataKejadian=(totalKejadian/totalTahun)\n",
        "print(\"Rata rata Kejadian adalah \", rataKejadian)\n",
        "\n",
        "\n",
        "\n",
        "x = int(input(\"masukkan jumlah kejadian : \"))\n",
        "\n",
        "sns.distplot(random.poisson(lam=rataKejadian, size=x), kde=False)\n",
        "\n",
        "plt.show()\n",
        "\n"
      ],
      "execution_count": 25,
      "outputs": [
        {
          "output_type": "stream",
          "text": [
            "Total Kejadian :  2368720\n",
            "Banyak Tahun :  27\n",
            "Rata rata Kejadian adalah  87730.37037037036\n",
            "masukkan jumlah kejadian : 10000\n"
          ],
          "name": "stdout"
        },
        {
          "output_type": "stream",
          "text": [
            "/usr/local/lib/python3.7/dist-packages/seaborn/distributions.py:2557: FutureWarning: `distplot` is a deprecated function and will be removed in a future version. Please adapt your code to use either `displot` (a figure-level function with similar flexibility) or `histplot` (an axes-level function for histograms).\n",
            "  warnings.warn(msg, FutureWarning)\n"
          ],
          "name": "stderr"
        },
        {
          "output_type": "display_data",
          "data": {
            "image/png": "[encoded data removed]",
            "text/plain": [
              "<Figure size 432x288 with 1 Axes>"
            ]
          },
          "metadata": {
            "tags": [],
            "needs_background": "light"
          }
        }
      ]
    }
  ]
}